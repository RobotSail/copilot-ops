{
 "cells": [
  {
   "cell_type": "code",
   "execution_count": 1,
   "id": "5bb74c13-c08d-4099-b959-3a73dfad77d1",
   "metadata": {},
   "outputs": [
    {
     "data": {
      "text/plain": [
       "undefined"
      ]
     },
     "execution_count": 1,
     "metadata": {},
     "output_type": "execute_result"
    },
    {
     "name": "stdout",
     "output_type": "stream",
     "text": [
      "received data {\n",
      "  data: {\n",
      "    __schema: {\n",
      "      queryType: [Object],\n",
      "      mutationType: [Object],\n",
      "      subscriptionType: null,\n",
      "      types: [Array],\n",
      "      directives: [Array]\n",
      "    }\n",
      "  }\n",
      "}\n"
     ]
    }
   ],
   "source": [
    "var axios = require('axios');\n",
    "const headers = {\n",
    "  Authorization:`bearer ${process.env.GITHUB_PAT}`\n",
    "};\n",
    "let data = {\n",
    "\tquery: `\n",
    "\t\tquery {\n",
    "\t\t\tviewer {\n",
    "\t\t\t\trepositories(first: 100, privacy: PUBLIC, orderBy: {field: CREATED_AT, direction: DESC}) {\n",
    "\t\t\t\t\tnodes {\n",
    "\t\t\t\t\t\tname\n",
    "\t\t\t\t\t\tdescription\n",
    "\t\t\t\t\t\turl\n",
    "\t\t\t\t\t}\n",
    "\t\t\t\t}\n",
    "\t\t\t}\n",
    "\t\t}\n",
    "\t`\n",
    "};\n",
    "let response = axios.get(\"https://api.github.com/graphql\", {headers, data}).then(resp => {\n",
    "    console.log('received data', resp.data)\n",
    "});\n",
    "\n"
   ]
  },
  {
   "cell_type": "code",
   "execution_count": 2,
   "id": "2ae0ef89-c69e-4477-a1ac-6f0d7a77a602",
   "metadata": {},
   "outputs": [
    {
     "data": {
      "text/plain": [
       "[Function (anonymous)]"
      ]
     },
     "execution_count": 2,
     "metadata": {},
     "output_type": "execute_result"
    }
   ],
   "source": [
    "var { gql } = require('@urql/core');\n",
    "var { createClient } = require('@urql/core');\n",
    "require('isomorphic-unfetch');\n",
    "\n",
    "let client = createClient({\n",
    "    url: 'https://api.github.com/graphql',\n",
    "    fetchOptions: () => {\n",
    "        const gh_token = process.env.GITHUB_PAT;\n",
    "        return {\n",
    "            headers: { Authorization: gh_token ? `Bearer ${gh_token}` : '' }\n",
    "        };\n",
    "    },\n",
    "});"
   ]
  },
  {
   "cell_type": "code",
   "execution_count": 3,
   "id": "16a8ba01-db3f-48f8-afa3-5c05b05bfc6b",
   "metadata": {},
   "outputs": [
    {
     "data": {
      "text/plain": [
       "undefined"
      ]
     },
     "execution_count": 3,
     "metadata": {},
     "output_type": "execute_result"
    }
   ],
   "source": [
    "let GHQuery = gql`\n",
    "    query {\n",
    "        viewer {\n",
    "            login\n",
    "        }\n",
    "    }\n",
    "`;\n"
   ]
  },
  {
   "cell_type": "code",
   "execution_count": 4,
   "id": "a9b67fb4-e36a-4671-b7f6-d33e401ee94e",
   "metadata": {},
   "outputs": [
    {
     "data": {
      "text/plain": [
       "{ viewer: { login: 'RobotSail', __typename: 'User' } }"
      ]
     },
     "execution_count": 4,
     "metadata": {},
     "output_type": "execute_result"
    }
   ],
   "source": [
    "let queryData\n",
    "client.query(GHQuery)\n",
    "    .toPromise()\n",
    "    .then(r => queryData = r.data);\n"
   ]
  },
  {
   "cell_type": "code",
   "execution_count": null,
   "id": "73717581-768c-4b77-8525-c6ba19458887",
   "metadata": {},
   "outputs": [],
   "source": []
  }
 ],
 "metadata": {
  "kernelspec": {
   "display_name": "JavaScript (Node.js)",
   "language": "javascript",
   "name": "javascript"
  },
  "language_info": {
   "file_extension": ".js",
   "mimetype": "application/javascript",
   "name": "javascript",
   "version": "16.13.1"
  }
 },
 "nbformat": 4,
 "nbformat_minor": 5
}
